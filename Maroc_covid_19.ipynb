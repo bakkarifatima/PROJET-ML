{
  "nbformat": 4,
  "nbformat_minor": 0,
  "metadata": {
    "colab": {
      "name": "Copie de Morocco_vs_word_covid_19.ipynb",
      "provenance": [],
      "collapsed_sections": [],
      "include_colab_link": true
    },
    "kernelspec": {
      "name": "python3",
      "display_name": "Python 3"
    }
  },
  "cells": [
    {
      "cell_type": "markdown",
      "metadata": {
        "id": "view-in-github",
        "colab_type": "text"
      },
      "source": [
        "<a href=\"https://colab.research.google.com/github/bakkarifatima/PROJET-ML/blob/master/Maroc_covid_19.ipynb\" target=\"_parent\"><img src=\"https://colab.research.google.com/assets/colab-badge.svg\" alt=\"Open In Colab\"/></a>"
      ]
    },
    {
      "cell_type": "markdown",
      "metadata": {
        "id": "sY8mJ7uxf1rj",
        "colab_type": "text"
      },
      "source": [
        "# **COVID-19 - Pandemic in Morocco!**"
      ]
    },
    {
      "cell_type": "markdown",
      "metadata": {
        "id": "RCI2c5odgfD3",
        "colab_type": "text"
      },
      "source": [
        "**Le virus Corona expliqué en termes simples:**\n",
        "\n",
        "Disons que Mohamed a été infecté hier, mais il ne le saura pas avant les 14 prochains jours\n",
        "Mohamed pense qu'il est en bonne santé mais il infecte 10 personnes par jour\n",
        "Maintenant, ces 10 personnes pensent qu'elles sont en parfaite santé, elles voyagent, sortent et infectent 100 autres personnes\n",
        "Ces 100 personnes pensent qu'elles sont en bonne santé mais elles ont déjà infecté 1000 personnes\n",
        "Personne ne sait qui est en bonne santé ou qui peut vous infecter\n",
        "Tout ce que vous pouvez faire, c'est être responsable, rester en quarentine\n",
        "La COVID-19 affecte les individus de différentes manières. La plupart des personnes infectées développent une forme légère à modérée de la maladie et guérissent sans hospitalisation.\n",
        "Symptômes les plus fréquents:\n",
        "  fièvre\n",
        "  toux sèche\n",
        "  fatigue\n",
        "Symptômes moins fréquents:\n",
        "  courbatures\n",
        "  maux de gorge\n",
        "  diarrhée\n",
        "  conjonctivite\n",
        "  maux de tête\n",
        "  perte de l’odorat ou du goût\n",
        "  éruption cutanée, ou décoloration des doigts ou des orteils\n"
      ]
    },
    {
      "cell_type": "markdown",
      "metadata": {
        "id": "24bAehNrhsj6",
        "colab_type": "text"
      },
      "source": [
        "**Importation des bibliothèques requises:**"
      ]
    },
    {
      "cell_type": "code",
      "metadata": {
        "id": "iShu-JO2fwct",
        "colab_type": "code",
        "colab": {}
      },
      "source": [
        "# importing the required libraries\n",
        "import pandas as pd\n",
        "import numpy as np\n",
        "\n",
        "# Visualisation libraries\n",
        "import matplotlib.pyplot as plt\n",
        "%matplotlib inline\n",
        "import seaborn as sns\n",
        "import plotly.express as px\n",
        "import plotly.graph_objects as go\n",
        "import folium \n",
        "from folium import plugins\n",
        "import datetime as dt\n",
        "import pandas as pd \n",
        "\n",
        "\n",
        "# Manipulating the default plot size\n",
        "plt.rcParams['figure.figsize'] = 10, 12\n",
        "\n",
        "# Disable warnings \n",
        "import warnings\n",
        "warnings.filterwarnings('ignore')\n",
        "\n"
      ],
      "execution_count": 8,
      "outputs": []
    },
    {
      "cell_type": "markdown",
      "metadata": {
        "id": "yO4W9XTExbzB",
        "colab_type": "text"
      },
      "source": [
        "# Télécharger les données \n",
        "À propos de jeu de données  Il s'agit d'un fichier .csv contenant des données sur l'évolution des cas de Covid-19 au Maroc, y compris ses 12 régions.il est disponible sur lien suivant :\n",
        "« https://raw.githubusercontent.com/bakkarifatima/PROJET /master/corona_morocco.csv »\n"
      ]
    },
    {
      "cell_type": "code",
      "metadata": {
        "id": "mIc8VbZRNf06",
        "colab_type": "code",
        "colab": {
          "base_uri": "https://localhost:8080/",
          "height": 386
        },
        "outputId": "b83356e7-9637-442f-f8d4-63b239abec76"
      },
      "source": [
        "url = 'https://raw.githubusercontent.com/bakkarifatima/PROJET-ML/master/corona_morocco.xlsx'\n",
        "\n",
        "df = pd.read_excel(url, index_col=0)# encoding = \"ISO-8859-1\")\n",
        "df.head()\n"
      ],
      "execution_count": 9,
      "outputs": [
        {
          "output_type": "execute_result",
          "data": {
            "text/html": [
              "<div>\n",
              "<style scoped>\n",
              "    .dataframe tbody tr th:only-of-type {\n",
              "        vertical-align: middle;\n",
              "    }\n",
              "\n",
              "    .dataframe tbody tr th {\n",
              "        vertical-align: top;\n",
              "    }\n",
              "\n",
              "    .dataframe thead th {\n",
              "        text-align: right;\n",
              "    }\n",
              "</style>\n",
              "<table border=\"1\" class=\"dataframe\">\n",
              "  <thead>\n",
              "    <tr style=\"text-align: right;\">\n",
              "      <th></th>\n",
              "      <th>Confirmed</th>\n",
              "      <th>Deaths</th>\n",
              "      <th>Recovered</th>\n",
              "      <th>Excluded</th>\n",
              "      <th>Beni Mellal-Khenifra</th>\n",
              "      <th>Casablanca-Settat</th>\n",
              "      <th>Draa-Tafilalet</th>\n",
              "      <th>Dakhla-Oued Ed-Dahab</th>\n",
              "      <th>Fes-Meknes</th>\n",
              "      <th>Guelmim-Oued Noun</th>\n",
              "      <th>Laayoune-Sakia El Hamra</th>\n",
              "      <th>Marrakesh-Safi</th>\n",
              "      <th>Oriental</th>\n",
              "      <th>Rabat-Sale-Kenitra</th>\n",
              "      <th>Souss-Massa</th>\n",
              "      <th>Tanger-Tetouan-Al Hoceima</th>\n",
              "    </tr>\n",
              "    <tr>\n",
              "      <th>Date</th>\n",
              "      <th></th>\n",
              "      <th></th>\n",
              "      <th></th>\n",
              "      <th></th>\n",
              "      <th></th>\n",
              "      <th></th>\n",
              "      <th></th>\n",
              "      <th></th>\n",
              "      <th></th>\n",
              "      <th></th>\n",
              "      <th></th>\n",
              "      <th></th>\n",
              "      <th></th>\n",
              "      <th></th>\n",
              "      <th></th>\n",
              "      <th></th>\n",
              "    </tr>\n",
              "  </thead>\n",
              "  <tbody>\n",
              "    <tr>\n",
              "      <th>2020-03-02</th>\n",
              "      <td>1.0</td>\n",
              "      <td>NaN</td>\n",
              "      <td>NaN</td>\n",
              "      <td>28.0</td>\n",
              "      <td>NaN</td>\n",
              "      <td>1.0</td>\n",
              "      <td>NaN</td>\n",
              "      <td>NaN</td>\n",
              "      <td>NaN</td>\n",
              "      <td>NaN</td>\n",
              "      <td>NaN</td>\n",
              "      <td>NaN</td>\n",
              "      <td>NaN</td>\n",
              "      <td>NaN</td>\n",
              "      <td>NaN</td>\n",
              "      <td>NaN</td>\n",
              "    </tr>\n",
              "    <tr>\n",
              "      <th>2020-03-03</th>\n",
              "      <td>NaN</td>\n",
              "      <td>NaN</td>\n",
              "      <td>NaN</td>\n",
              "      <td>32.0</td>\n",
              "      <td>NaN</td>\n",
              "      <td>NaN</td>\n",
              "      <td>NaN</td>\n",
              "      <td>NaN</td>\n",
              "      <td>NaN</td>\n",
              "      <td>NaN</td>\n",
              "      <td>NaN</td>\n",
              "      <td>NaN</td>\n",
              "      <td>NaN</td>\n",
              "      <td>NaN</td>\n",
              "      <td>NaN</td>\n",
              "      <td>NaN</td>\n",
              "    </tr>\n",
              "    <tr>\n",
              "      <th>2020-03-04</th>\n",
              "      <td>2.0</td>\n",
              "      <td>NaN</td>\n",
              "      <td>NaN</td>\n",
              "      <td>34.0</td>\n",
              "      <td>NaN</td>\n",
              "      <td>2.0</td>\n",
              "      <td>NaN</td>\n",
              "      <td>NaN</td>\n",
              "      <td>NaN</td>\n",
              "      <td>NaN</td>\n",
              "      <td>NaN</td>\n",
              "      <td>NaN</td>\n",
              "      <td>NaN</td>\n",
              "      <td>NaN</td>\n",
              "      <td>NaN</td>\n",
              "      <td>NaN</td>\n",
              "    </tr>\n",
              "    <tr>\n",
              "      <th>2020-03-05</th>\n",
              "      <td>NaN</td>\n",
              "      <td>NaN</td>\n",
              "      <td>NaN</td>\n",
              "      <td>40.0</td>\n",
              "      <td>NaN</td>\n",
              "      <td>NaN</td>\n",
              "      <td>NaN</td>\n",
              "      <td>NaN</td>\n",
              "      <td>NaN</td>\n",
              "      <td>NaN</td>\n",
              "      <td>NaN</td>\n",
              "      <td>NaN</td>\n",
              "      <td>NaN</td>\n",
              "      <td>NaN</td>\n",
              "      <td>NaN</td>\n",
              "      <td>NaN</td>\n",
              "    </tr>\n",
              "    <tr>\n",
              "      <th>2020-03-06</th>\n",
              "      <td>NaN</td>\n",
              "      <td>NaN</td>\n",
              "      <td>NaN</td>\n",
              "      <td>50.0</td>\n",
              "      <td>NaN</td>\n",
              "      <td>NaN</td>\n",
              "      <td>NaN</td>\n",
              "      <td>NaN</td>\n",
              "      <td>NaN</td>\n",
              "      <td>NaN</td>\n",
              "      <td>NaN</td>\n",
              "      <td>NaN</td>\n",
              "      <td>NaN</td>\n",
              "      <td>NaN</td>\n",
              "      <td>NaN</td>\n",
              "      <td>NaN</td>\n",
              "    </tr>\n",
              "  </tbody>\n",
              "</table>\n",
              "</div>"
            ],
            "text/plain": [
              "            Confirmed  Deaths  ...  Souss-Massa  Tanger-Tetouan-Al Hoceima\n",
              "Date                           ...                                        \n",
              "2020-03-02        1.0     NaN  ...          NaN                        NaN\n",
              "2020-03-03        NaN     NaN  ...          NaN                        NaN\n",
              "2020-03-04        2.0     NaN  ...          NaN                        NaN\n",
              "2020-03-05        NaN     NaN  ...          NaN                        NaN\n",
              "2020-03-06        NaN     NaN  ...          NaN                        NaN\n",
              "\n",
              "[5 rows x 16 columns]"
            ]
          },
          "metadata": {
            "tags": []
          },
          "execution_count": 9
        }
      ]
    },
    {
      "cell_type": "markdown",
      "metadata": {
        "id": "pZ1FEBGoKo_9",
        "colab_type": "text"
      },
      "source": [
        "# **Partie 1: Analyser la situation actuelle au Maroc**"
      ]
    },
    {
      "cell_type": "markdown",
      "metadata": {
        "id": "71aU3W3QaKbV",
        "colab_type": "text"
      },
      "source": [
        "# remplacer les valeurs manquentes par 0\n",
        "Nous devons remplacer les valeurs manquante par 0 avant l'étape d'exploration de données. Nous pouvons le faire simplement\n",
        "par l\"application du code suivant:"
      ]
    },
    {
      "cell_type": "code",
      "metadata": {
        "id": "Zh1yNVx7ZLzk",
        "colab_type": "code",
        "colab": {}
      },
      "source": [
        "#remplacer les valeurs manquentes par 0\n",
        "df = df.fillna(0)"
      ],
      "execution_count": 10,
      "outputs": []
    },
    {
      "cell_type": "markdown",
      "metadata": {
        "id": "AYjvaxj56As8",
        "colab_type": "text"
      },
      "source": [
        "# Ajout du cas actif et du nombre total de tests par jour\n",
        "\n",
        "pour le calcule des cas actif et le nombre de tests par jour , on a ajouter de colonnes qui contient ces 2 mesurant :\n",
        "\n",
        "\n",
        "\n",
        "1.   actif_column= df**['Confirmed']** - df**['Recovered']** - df**['Deaths']**\n",
        "2.   \n",
        "total_test_perDay = df**['Confirmed']** + df**['Excluded']**\n",
        "\n",
        "\n",
        "\n"
      ]
    },
    {
      "cell_type": "code",
      "metadata": {
        "id": "Y0KgUbVh6Pj2",
        "colab_type": "code",
        "colab": {
          "base_uri": "https://localhost:8080/",
          "height": 682
        },
        "outputId": "ed2a4c57-c0dd-4c32-8533-39b1e9237bc9"
      },
      "source": [
        "actif_column= df['Confirmed'] - df['Recovered'] - df['Deaths']\n",
        "total_test_perDay = df['Confirmed'] + df['Excluded']\n",
        "df['Actif'] = actif_column\n",
        "df['Total Test'] = total_test_perDay\n",
        "df\n"
      ],
      "execution_count": 11,
      "outputs": [
        {
          "output_type": "execute_result",
          "data": {
            "text/html": [
              "<div>\n",
              "<style scoped>\n",
              "    .dataframe tbody tr th:only-of-type {\n",
              "        vertical-align: middle;\n",
              "    }\n",
              "\n",
              "    .dataframe tbody tr th {\n",
              "        vertical-align: top;\n",
              "    }\n",
              "\n",
              "    .dataframe thead th {\n",
              "        text-align: right;\n",
              "    }\n",
              "</style>\n",
              "<table border=\"1\" class=\"dataframe\">\n",
              "  <thead>\n",
              "    <tr style=\"text-align: right;\">\n",
              "      <th></th>\n",
              "      <th>Confirmed</th>\n",
              "      <th>Deaths</th>\n",
              "      <th>Recovered</th>\n",
              "      <th>Excluded</th>\n",
              "      <th>Beni Mellal-Khenifra</th>\n",
              "      <th>Casablanca-Settat</th>\n",
              "      <th>Draa-Tafilalet</th>\n",
              "      <th>Dakhla-Oued Ed-Dahab</th>\n",
              "      <th>Fes-Meknes</th>\n",
              "      <th>Guelmim-Oued Noun</th>\n",
              "      <th>Laayoune-Sakia El Hamra</th>\n",
              "      <th>Marrakesh-Safi</th>\n",
              "      <th>Oriental</th>\n",
              "      <th>Rabat-Sale-Kenitra</th>\n",
              "      <th>Souss-Massa</th>\n",
              "      <th>Tanger-Tetouan-Al Hoceima</th>\n",
              "      <th>Actif</th>\n",
              "      <th>Total Test</th>\n",
              "    </tr>\n",
              "    <tr>\n",
              "      <th>Date</th>\n",
              "      <th></th>\n",
              "      <th></th>\n",
              "      <th></th>\n",
              "      <th></th>\n",
              "      <th></th>\n",
              "      <th></th>\n",
              "      <th></th>\n",
              "      <th></th>\n",
              "      <th></th>\n",
              "      <th></th>\n",
              "      <th></th>\n",
              "      <th></th>\n",
              "      <th></th>\n",
              "      <th></th>\n",
              "      <th></th>\n",
              "      <th></th>\n",
              "      <th></th>\n",
              "      <th></th>\n",
              "    </tr>\n",
              "  </thead>\n",
              "  <tbody>\n",
              "    <tr>\n",
              "      <th>2020-03-02</th>\n",
              "      <td>1.0</td>\n",
              "      <td>0.0</td>\n",
              "      <td>0.0</td>\n",
              "      <td>28.0</td>\n",
              "      <td>0.0</td>\n",
              "      <td>1.0</td>\n",
              "      <td>0.0</td>\n",
              "      <td>0.0</td>\n",
              "      <td>0.0</td>\n",
              "      <td>0.0</td>\n",
              "      <td>0.0</td>\n",
              "      <td>0.0</td>\n",
              "      <td>0.0</td>\n",
              "      <td>0.0</td>\n",
              "      <td>0.0</td>\n",
              "      <td>0.0</td>\n",
              "      <td>1.0</td>\n",
              "      <td>29.0</td>\n",
              "    </tr>\n",
              "    <tr>\n",
              "      <th>2020-03-03</th>\n",
              "      <td>0.0</td>\n",
              "      <td>0.0</td>\n",
              "      <td>0.0</td>\n",
              "      <td>32.0</td>\n",
              "      <td>0.0</td>\n",
              "      <td>0.0</td>\n",
              "      <td>0.0</td>\n",
              "      <td>0.0</td>\n",
              "      <td>0.0</td>\n",
              "      <td>0.0</td>\n",
              "      <td>0.0</td>\n",
              "      <td>0.0</td>\n",
              "      <td>0.0</td>\n",
              "      <td>0.0</td>\n",
              "      <td>0.0</td>\n",
              "      <td>0.0</td>\n",
              "      <td>0.0</td>\n",
              "      <td>32.0</td>\n",
              "    </tr>\n",
              "    <tr>\n",
              "      <th>2020-03-04</th>\n",
              "      <td>2.0</td>\n",
              "      <td>0.0</td>\n",
              "      <td>0.0</td>\n",
              "      <td>34.0</td>\n",
              "      <td>0.0</td>\n",
              "      <td>2.0</td>\n",
              "      <td>0.0</td>\n",
              "      <td>0.0</td>\n",
              "      <td>0.0</td>\n",
              "      <td>0.0</td>\n",
              "      <td>0.0</td>\n",
              "      <td>0.0</td>\n",
              "      <td>0.0</td>\n",
              "      <td>0.0</td>\n",
              "      <td>0.0</td>\n",
              "      <td>0.0</td>\n",
              "      <td>2.0</td>\n",
              "      <td>36.0</td>\n",
              "    </tr>\n",
              "    <tr>\n",
              "      <th>2020-03-05</th>\n",
              "      <td>0.0</td>\n",
              "      <td>0.0</td>\n",
              "      <td>0.0</td>\n",
              "      <td>40.0</td>\n",
              "      <td>0.0</td>\n",
              "      <td>0.0</td>\n",
              "      <td>0.0</td>\n",
              "      <td>0.0</td>\n",
              "      <td>0.0</td>\n",
              "      <td>0.0</td>\n",
              "      <td>0.0</td>\n",
              "      <td>0.0</td>\n",
              "      <td>0.0</td>\n",
              "      <td>0.0</td>\n",
              "      <td>0.0</td>\n",
              "      <td>0.0</td>\n",
              "      <td>0.0</td>\n",
              "      <td>40.0</td>\n",
              "    </tr>\n",
              "    <tr>\n",
              "      <th>2020-03-06</th>\n",
              "      <td>0.0</td>\n",
              "      <td>0.0</td>\n",
              "      <td>0.0</td>\n",
              "      <td>50.0</td>\n",
              "      <td>0.0</td>\n",
              "      <td>0.0</td>\n",
              "      <td>0.0</td>\n",
              "      <td>0.0</td>\n",
              "      <td>0.0</td>\n",
              "      <td>0.0</td>\n",
              "      <td>0.0</td>\n",
              "      <td>0.0</td>\n",
              "      <td>0.0</td>\n",
              "      <td>0.0</td>\n",
              "      <td>0.0</td>\n",
              "      <td>0.0</td>\n",
              "      <td>0.0</td>\n",
              "      <td>50.0</td>\n",
              "    </tr>\n",
              "    <tr>\n",
              "      <th>...</th>\n",
              "      <td>...</td>\n",
              "      <td>...</td>\n",
              "      <td>...</td>\n",
              "      <td>...</td>\n",
              "      <td>...</td>\n",
              "      <td>...</td>\n",
              "      <td>...</td>\n",
              "      <td>...</td>\n",
              "      <td>...</td>\n",
              "      <td>...</td>\n",
              "      <td>...</td>\n",
              "      <td>...</td>\n",
              "      <td>...</td>\n",
              "      <td>...</td>\n",
              "      <td>...</td>\n",
              "      <td>...</td>\n",
              "      <td>...</td>\n",
              "      <td>...</td>\n",
              "    </tr>\n",
              "    <tr>\n",
              "      <th>2020-06-29</th>\n",
              "      <td>12290.0</td>\n",
              "      <td>225.0</td>\n",
              "      <td>8833.0</td>\n",
              "      <td>650524.0</td>\n",
              "      <td>153.0</td>\n",
              "      <td>3379.0</td>\n",
              "      <td>587.0</td>\n",
              "      <td>12.0</td>\n",
              "      <td>1248.0</td>\n",
              "      <td>75.0</td>\n",
              "      <td>458.0</td>\n",
              "      <td>1925.0</td>\n",
              "      <td>207.0</td>\n",
              "      <td>1953.0</td>\n",
              "      <td>93.0</td>\n",
              "      <td>2207.0</td>\n",
              "      <td>3232.0</td>\n",
              "      <td>662814.0</td>\n",
              "    </tr>\n",
              "    <tr>\n",
              "      <th>2020-06-30</th>\n",
              "      <td>12533.0</td>\n",
              "      <td>228.0</td>\n",
              "      <td>8920.0</td>\n",
              "      <td>668658.0</td>\n",
              "      <td>152.0</td>\n",
              "      <td>3427.0</td>\n",
              "      <td>587.0</td>\n",
              "      <td>13.0</td>\n",
              "      <td>1253.0</td>\n",
              "      <td>76.0</td>\n",
              "      <td>529.0</td>\n",
              "      <td>1941.0</td>\n",
              "      <td>206.0</td>\n",
              "      <td>1964.0</td>\n",
              "      <td>92.0</td>\n",
              "      <td>2299.0</td>\n",
              "      <td>3385.0</td>\n",
              "      <td>681191.0</td>\n",
              "    </tr>\n",
              "    <tr>\n",
              "      <th>2020-07-01</th>\n",
              "      <td>12636.0</td>\n",
              "      <td>228.0</td>\n",
              "      <td>9026.0</td>\n",
              "      <td>685492.0</td>\n",
              "      <td>152.0</td>\n",
              "      <td>3450.0</td>\n",
              "      <td>587.0</td>\n",
              "      <td>16.0</td>\n",
              "      <td>1292.0</td>\n",
              "      <td>75.0</td>\n",
              "      <td>535.0</td>\n",
              "      <td>1953.0</td>\n",
              "      <td>212.0</td>\n",
              "      <td>1973.0</td>\n",
              "      <td>93.0</td>\n",
              "      <td>2304.0</td>\n",
              "      <td>3382.0</td>\n",
              "      <td>698128.0</td>\n",
              "    </tr>\n",
              "    <tr>\n",
              "      <th>2020-07-02</th>\n",
              "      <td>12969.0</td>\n",
              "      <td>229.0</td>\n",
              "      <td>9090.0</td>\n",
              "      <td>702884.0</td>\n",
              "      <td>152.0</td>\n",
              "      <td>3497.0</td>\n",
              "      <td>587.0</td>\n",
              "      <td>16.0</td>\n",
              "      <td>1352.0</td>\n",
              "      <td>81.0</td>\n",
              "      <td>600.0</td>\n",
              "      <td>1977.0</td>\n",
              "      <td>212.0</td>\n",
              "      <td>1980.0</td>\n",
              "      <td>93.0</td>\n",
              "      <td>2430.0</td>\n",
              "      <td>3650.0</td>\n",
              "      <td>715853.0</td>\n",
              "    </tr>\n",
              "    <tr>\n",
              "      <th>2020-07-03</th>\n",
              "      <td>13288.0</td>\n",
              "      <td>230.0</td>\n",
              "      <td>9160.0</td>\n",
              "      <td>719206.0</td>\n",
              "      <td>152.0</td>\n",
              "      <td>3539.0</td>\n",
              "      <td>587.0</td>\n",
              "      <td>15.0</td>\n",
              "      <td>1422.0</td>\n",
              "      <td>80.0</td>\n",
              "      <td>605.0</td>\n",
              "      <td>2050.0</td>\n",
              "      <td>212.0</td>\n",
              "      <td>1994.0</td>\n",
              "      <td>92.0</td>\n",
              "      <td>2545.0</td>\n",
              "      <td>3898.0</td>\n",
              "      <td>732494.0</td>\n",
              "    </tr>\n",
              "  </tbody>\n",
              "</table>\n",
              "<p>124 rows × 18 columns</p>\n",
              "</div>"
            ],
            "text/plain": [
              "            Confirmed  Deaths  ...   Actif  Total Test\n",
              "Date                           ...                    \n",
              "2020-03-02        1.0     0.0  ...     1.0        29.0\n",
              "2020-03-03        0.0     0.0  ...     0.0        32.0\n",
              "2020-03-04        2.0     0.0  ...     2.0        36.0\n",
              "2020-03-05        0.0     0.0  ...     0.0        40.0\n",
              "2020-03-06        0.0     0.0  ...     0.0        50.0\n",
              "...               ...     ...  ...     ...         ...\n",
              "2020-06-29    12290.0   225.0  ...  3232.0    662814.0\n",
              "2020-06-30    12533.0   228.0  ...  3385.0    681191.0\n",
              "2020-07-01    12636.0   228.0  ...  3382.0    698128.0\n",
              "2020-07-02    12969.0   229.0  ...  3650.0    715853.0\n",
              "2020-07-03    13288.0   230.0  ...  3898.0    732494.0\n",
              "\n",
              "[124 rows x 18 columns]"
            ]
          },
          "metadata": {
            "tags": []
          },
          "execution_count": 11
        }
      ]
    },
    {
      "cell_type": "markdown",
      "metadata": {
        "id": "dK2IiLUA6mTi",
        "colab_type": "text"
      },
      "source": [
        "# Représentation graphique du nombre de cas confirmés et de recouvrements.\n",
        "\n",
        "d'après le graphique ci-dessous, on peut dire que le nombre de nouveaux cas dépasse toujours le nombre de reprise\n"
      ]
    },
    {
      "cell_type": "code",
      "metadata": {
        "id": "AqhtcSfq6vzC",
        "colab_type": "code",
        "colab": {
          "base_uri": "https://localhost:8080/",
          "height": 368
        },
        "outputId": "283600cc-0847-4339-c641-627dfa062323"
      },
      "source": [
        "plt.figure(figsize=(10,5))\n",
        "sns.lineplot(data = df['Confirmed'],label='Confirmed')\n",
        "sns.lineplot(data = df['Recovered'],label='Recovered')\n",
        "plt.xlabel('Date')\n",
        "plt.ylabel('Total number')\n",
        "plt.title('Graph chart of confirmed and recovered cases in Morocco')\n",
        "\n",
        "plt.legend()"
      ],
      "execution_count": 12,
      "outputs": [
        {
          "output_type": "execute_result",
          "data": {
            "text/plain": [
              "<matplotlib.legend.Legend at 0x7fac21869ef0>"
            ]
          },
          "metadata": {
            "tags": []
          },
          "execution_count": 12
        },
        {
          "output_type": "display_data",
          "data": {
            "image/png": "[encoded data removed]",
            "text/plain": [
              "<Figure size 720x360 with 1 Axes>"
            ]
          },
          "metadata": {
            "tags": [],
            "needs_background": "light"
          }
        }
      ]
    },
    {
      "cell_type": "markdown",
      "metadata": {
        "id": "5qMrD9JO8I_E",
        "colab_type": "text"
      },
      "source": [
        "\n",
        "*Définition de la colonne Date comme index *"
      ]
    },
    {
      "cell_type": "code",
      "metadata": {
        "id": "Y5edJwgZ8Ro9",
        "colab_type": "code",
        "colab": {
          "base_uri": "https://localhost:8080/",
          "height": 335
        },
        "outputId": "6e3b4183-1262-4158-e922-b4d6c0a32cdc"
      },
      "source": [
        "df = df.set_index('Date')\n",
        "\n",
        "df.head()"
      ],
      "execution_count": 16,
      "outputs": [
        {
          "output_type": "error",
          "ename": "KeyError",
          "evalue": "ignored",
          "traceback": [
            "\u001b[0;31m---------------------------------------------------------------------------\u001b[0m",
            "\u001b[0;31mKeyError\u001b[0m                                  Traceback (most recent call last)",
            "\u001b[0;32m<ipython-input-16-fda706546bc6>\u001b[0m in \u001b[0;36m<module>\u001b[0;34m()\u001b[0m\n\u001b[0;32m----> 1\u001b[0;31m \u001b[0mdf\u001b[0m \u001b[0;34m=\u001b[0m \u001b[0mdf\u001b[0m\u001b[0;34m.\u001b[0m\u001b[0mset_index\u001b[0m\u001b[0;34m(\u001b[0m\u001b[0;34m'Date'\u001b[0m\u001b[0;34m)\u001b[0m\u001b[0;34m\u001b[0m\u001b[0;34m\u001b[0m\u001b[0m\n\u001b[0m\u001b[1;32m      2\u001b[0m \u001b[0;34m\u001b[0m\u001b[0m\n\u001b[1;32m      3\u001b[0m \u001b[0mdf\u001b[0m\u001b[0;34m.\u001b[0m\u001b[0mhead\u001b[0m\u001b[0;34m(\u001b[0m\u001b[0;34m)\u001b[0m\u001b[0;34m\u001b[0m\u001b[0;34m\u001b[0m\u001b[0m\n",
            "\u001b[0;32m/usr/local/lib/python3.6/dist-packages/pandas/core/frame.py\u001b[0m in \u001b[0;36mset_index\u001b[0;34m(self, keys, drop, append, inplace, verify_integrity)\u001b[0m\n\u001b[1;32m   4301\u001b[0m \u001b[0;34m\u001b[0m\u001b[0m\n\u001b[1;32m   4302\u001b[0m         \u001b[0;32mif\u001b[0m \u001b[0mmissing\u001b[0m\u001b[0;34m:\u001b[0m\u001b[0;34m\u001b[0m\u001b[0;34m\u001b[0m\u001b[0m\n\u001b[0;32m-> 4303\u001b[0;31m             \u001b[0;32mraise\u001b[0m \u001b[0mKeyError\u001b[0m\u001b[0;34m(\u001b[0m\u001b[0;34mf\"None of {missing} are in the columns\"\u001b[0m\u001b[0;34m)\u001b[0m\u001b[0;34m\u001b[0m\u001b[0;34m\u001b[0m\u001b[0m\n\u001b[0m\u001b[1;32m   4304\u001b[0m \u001b[0;34m\u001b[0m\u001b[0m\n\u001b[1;32m   4305\u001b[0m         \u001b[0;32mif\u001b[0m \u001b[0minplace\u001b[0m\u001b[0;34m:\u001b[0m\u001b[0;34m\u001b[0m\u001b[0;34m\u001b[0m\u001b[0m\n",
            "\u001b[0;31mKeyError\u001b[0m: \"None of ['Date'] are in the columns\""
          ]
        }
      ]
    },
    {
      "cell_type": "markdown",
      "metadata": {
        "id": "rcgwBTF77ZCD",
        "colab_type": "text"
      },
      "source": [
        "\n",
        "**La répartition des nouveaux cas pour les lignes 14 et 15 Avril sur la région n'est pas disponible et cela affectera notre analyse**"
      ]
    },
    {
      "cell_type": "code",
      "metadata": {
        "id": "QsoY11dS7fhI",
        "colab_type": "code",
        "colab": {
          "base_uri": "https://localhost:8080/",
          "height": 339
        },
        "outputId": "b837dc80-aff3-459e-d87b-222784ae3b50"
      },
      "source": [
        "df['2020-04-13':'2020-04-16']"
      ],
      "execution_count": 17,
      "outputs": [
        {
          "output_type": "execute_result",
          "data": {
            "text/html": [
              "<div>\n",
              "<style scoped>\n",
              "    .dataframe tbody tr th:only-of-type {\n",
              "        vertical-align: middle;\n",
              "    }\n",
              "\n",
              "    .dataframe tbody tr th {\n",
              "        vertical-align: top;\n",
              "    }\n",
              "\n",
              "    .dataframe thead th {\n",
              "        text-align: right;\n",
              "    }\n",
              "</style>\n",
              "<table border=\"1\" class=\"dataframe\">\n",
              "  <thead>\n",
              "    <tr style=\"text-align: right;\">\n",
              "      <th></th>\n",
              "      <th>Confirmed</th>\n",
              "      <th>Deaths</th>\n",
              "      <th>Recovered</th>\n",
              "      <th>Excluded</th>\n",
              "      <th>Beni Mellal-Khenifra</th>\n",
              "      <th>Casablanca-Settat</th>\n",
              "      <th>Draa-Tafilalet</th>\n",
              "      <th>Dakhla-Oued Ed-Dahab</th>\n",
              "      <th>Fes-Meknes</th>\n",
              "      <th>Guelmim-Oued Noun</th>\n",
              "      <th>Laayoune-Sakia El Hamra</th>\n",
              "      <th>Marrakesh-Safi</th>\n",
              "      <th>Oriental</th>\n",
              "      <th>Rabat-Sale-Kenitra</th>\n",
              "      <th>Souss-Massa</th>\n",
              "      <th>Tanger-Tetouan-Al Hoceima</th>\n",
              "      <th>Actif</th>\n",
              "      <th>Total Test</th>\n",
              "    </tr>\n",
              "    <tr>\n",
              "      <th>Date</th>\n",
              "      <th></th>\n",
              "      <th></th>\n",
              "      <th></th>\n",
              "      <th></th>\n",
              "      <th></th>\n",
              "      <th></th>\n",
              "      <th></th>\n",
              "      <th></th>\n",
              "      <th></th>\n",
              "      <th></th>\n",
              "      <th></th>\n",
              "      <th></th>\n",
              "      <th></th>\n",
              "      <th></th>\n",
              "      <th></th>\n",
              "      <th></th>\n",
              "      <th></th>\n",
              "      <th></th>\n",
              "    </tr>\n",
              "  </thead>\n",
              "  <tbody>\n",
              "    <tr>\n",
              "      <th>2020-04-13</th>\n",
              "      <td>1763.0</td>\n",
              "      <td>126.0</td>\n",
              "      <td>203.0</td>\n",
              "      <td>7365.0</td>\n",
              "      <td>48.0</td>\n",
              "      <td>521.0</td>\n",
              "      <td>78.0</td>\n",
              "      <td>2.0</td>\n",
              "      <td>233.0</td>\n",
              "      <td>1.0</td>\n",
              "      <td>4.0</td>\n",
              "      <td>335.0</td>\n",
              "      <td>123.0</td>\n",
              "      <td>225.0</td>\n",
              "      <td>24.0</td>\n",
              "      <td>169.0</td>\n",
              "      <td>1434.0</td>\n",
              "      <td>9128.0</td>\n",
              "    </tr>\n",
              "    <tr>\n",
              "      <th>2020-04-14</th>\n",
              "      <td>1888.0</td>\n",
              "      <td>126.0</td>\n",
              "      <td>217.0</td>\n",
              "      <td>8034.0</td>\n",
              "      <td>0.0</td>\n",
              "      <td>0.0</td>\n",
              "      <td>0.0</td>\n",
              "      <td>0.0</td>\n",
              "      <td>0.0</td>\n",
              "      <td>0.0</td>\n",
              "      <td>0.0</td>\n",
              "      <td>0.0</td>\n",
              "      <td>0.0</td>\n",
              "      <td>0.0</td>\n",
              "      <td>0.0</td>\n",
              "      <td>0.0</td>\n",
              "      <td>1545.0</td>\n",
              "      <td>9922.0</td>\n",
              "    </tr>\n",
              "    <tr>\n",
              "      <th>2020-04-15</th>\n",
              "      <td>2024.0</td>\n",
              "      <td>127.0</td>\n",
              "      <td>229.0</td>\n",
              "      <td>8626.0</td>\n",
              "      <td>0.0</td>\n",
              "      <td>0.0</td>\n",
              "      <td>0.0</td>\n",
              "      <td>0.0</td>\n",
              "      <td>0.0</td>\n",
              "      <td>0.0</td>\n",
              "      <td>0.0</td>\n",
              "      <td>0.0</td>\n",
              "      <td>0.0</td>\n",
              "      <td>0.0</td>\n",
              "      <td>0.0</td>\n",
              "      <td>0.0</td>\n",
              "      <td>1668.0</td>\n",
              "      <td>10650.0</td>\n",
              "    </tr>\n",
              "    <tr>\n",
              "      <th>2020-04-16</th>\n",
              "      <td>2283.0</td>\n",
              "      <td>130.0</td>\n",
              "      <td>249.0</td>\n",
              "      <td>10388.0</td>\n",
              "      <td>56.0</td>\n",
              "      <td>681.0</td>\n",
              "      <td>80.0</td>\n",
              "      <td>2.0</td>\n",
              "      <td>317.0</td>\n",
              "      <td>1.0</td>\n",
              "      <td>4.0</td>\n",
              "      <td>487.0</td>\n",
              "      <td>140.0</td>\n",
              "      <td>258.0</td>\n",
              "      <td>27.0</td>\n",
              "      <td>230.0</td>\n",
              "      <td>1904.0</td>\n",
              "      <td>12671.0</td>\n",
              "    </tr>\n",
              "  </tbody>\n",
              "</table>\n",
              "</div>"
            ],
            "text/plain": [
              "            Confirmed  Deaths  ...   Actif  Total Test\n",
              "Date                           ...                    \n",
              "2020-04-13     1763.0   126.0  ...  1434.0      9128.0\n",
              "2020-04-14     1888.0   126.0  ...  1545.0      9922.0\n",
              "2020-04-15     2024.0   127.0  ...  1668.0     10650.0\n",
              "2020-04-16     2283.0   130.0  ...  1904.0     12671.0\n",
              "\n",
              "[4 rows x 18 columns]"
            ]
          },
          "metadata": {
            "tags": []
          },
          "execution_count": 17
        }
      ]
    },
    {
      "cell_type": "markdown",
      "metadata": {
        "id": "-aEK_ChR8jKv",
        "colab_type": "text"
      },
      "source": [
        "**La solution optimale pour les données manquantes dans cet exemple est de les supprimer.**"
      ]
    },
    {
      "cell_type": "code",
      "metadata": {
        "id": "3l06XSJo8lEc",
        "colab_type": "code",
        "colab": {}
      },
      "source": [
        "my_data_ori = df.copy() # plus tard, on aura besoin de toutes les colonnes Confirmé, Décès et Récupéré pour toutes les dates à l'exception du 14,15 avril\n",
        "\n",
        "df = df[df.index != '2020-04-14']\n",
        "df = df[df.index != '2020-04-15']"
      ],
      "execution_count": null,
      "outputs": []
    },
    {
      "cell_type": "markdown",
      "metadata": {
        "id": "DF0Sbotm9EQ0",
        "colab_type": "text"
      },
      "source": [
        "**Evolution quotidienne du test total**\n",
        "\n",
        "le nombre des tests effectuées par jour connu une forte augmentation et surtout \n",
        "A partir de mi-avril"
      ]
    },
    {
      "cell_type": "code",
      "metadata": {
        "id": "0fiaKbtw9IM_",
        "colab_type": "code",
        "colab": {}
      },
      "source": [
        "plt.figure(figsize=(10,5))\n",
        "sns.lineplot(data = df['Total Test'],label='Total Test')\n",
        "plt.xlabel('Date')\n",
        "plt.ylabel('Number of tests')"
      ],
      "execution_count": null,
      "outputs": []
    },
    {
      "cell_type": "markdown",
      "metadata": {
        "id": "fP6PbNL39Vdj",
        "colab_type": "text"
      },
      "source": [
        "**Corrélation entre le nombre de tests par jour et les nouveaux cas confirmés**"
      ]
    },
    {
      "cell_type": "code",
      "metadata": {
        "id": "4zWRau9R9XWS",
        "colab_type": "code",
        "colab": {}
      },
      "source": [
        "plt.figure(figsize=(10,5))\n",
        "sns.regplot(x = df['Total Test'],y = df['Confirmed'])\n"
      ],
      "execution_count": null,
      "outputs": []
    },
    {
      "cell_type": "markdown",
      "metadata": {
        "id": "pVuPI3yQWBaw",
        "colab_type": "text"
      },
      "source": [
        "**Représentation graphique de l'évolution du nombre total de cas par région**"
      ]
    },
    {
      "cell_type": "code",
      "metadata": {
        "id": "1jt1ZeamWIN0",
        "colab_type": "code",
        "colab": {}
      },
      "source": [
        "# Selection regions\n",
        "Regions1 = ['Beni Mellal-Khenifra',\n",
        "       'Casablanca-Settat', 'Draa-Tafilalet', 'Dakhla-Oued Ed-Dahab',\n",
        "       'Fes-Meknes', 'Laayoune-Sakia El Hamra','Guelmim-Oued Noun', 'Laayoune-Sakia El Hamra',\n",
        "       'Marrakesh-Safi', 'Oriental', 'Rabat-Sale-Kenitra', 'Souss-Massa','Tanger-Tetouan-Al Hoceima']\n",
        "\n",
        "\n",
        "plt.figure(figsize=(14,8))\n",
        "sns.lineplot(data = df[Regions1],dashes=False)\n",
        "plt.text('2020-05-10', 2250, 'Casabalanca-Settat', fontsize=12,color='#ff4500')\n",
        "plt.text('2020-05-12', 1350, 'Marrakesh-Safi', fontsize=12,color='#4682B4')\n",
        "plt.text('2020-05-10', 1100, 'Tanger-Tetouan-Al Hoceima', fontsize=10,color='#FF69B4')\n",
        "plt.title('Total cases evolution per region',fontsize = 20)\n"
      ],
      "execution_count": null,
      "outputs": []
    },
    {
      "cell_type": "code",
      "metadata": {
        "id": "MbdDTPR2-LPn",
        "colab_type": "code",
        "colab": {}
      },
      "source": [
        "region_bar = df.iloc[[-1]].transpose()\n",
        "region_bar = region_bar.drop(['Confirmed','Recovered','Deaths','Excluded','Actif','Total Test'])\n",
        "region_bar.columns=['Total cases']\n",
        "region_bar.index.name = 'Regions'\n",
        "plt.figure(figsize=(20,6))\n",
        "sns.barplot(x=region_bar.index,y='Total cases',data=region_bar)\n",
        "plt.title('Total case per region',fontsize=20)"
      ],
      "execution_count": null,
      "outputs": []
    },
    {
      "cell_type": "markdown",
      "metadata": {
        "id": "KIji_Az3-VmC",
        "colab_type": "text"
      },
      "source": [
        "**Représentation graphique des cas actifs**\n",
        "\n",
        "\n",
        "\n",
        "*Du 15 mars au 1er mai, le nombre de cas a fortement augmenté et il a diminué de mi-mai au 1er juin après que ce dernier ait connu une certaine stabilité jusqu'à mi-juin puis il a recommencé à augmenter\n",
        "\n",
        "\n",
        "\n",
        "\n",
        "\n",
        "\n",
        "**`*NB: les lignes verticales rouges représentent les périodes de confinement *`**"
      ]
    },
    {
      "cell_type": "code",
      "metadata": {
        "id": "HTos6Yxr-ZlE",
        "colab_type": "code",
        "colab": {}
      },
      "source": [
        "plt.figure(figsize=(14,8))\n",
        "sns.lineplot(data = df['Actif'],label='Acif')\n",
        "plt.axvline('2020-03-20',ls = '--',c = 'r')\n",
        "plt.axvline('2020-04-20',ls = '--',c = 'r')\n",
        "plt.axvline('2020-05-20',ls = '--',c = 'r')\n",
        "plt.axvline('2020-06-10',ls = '--',c = 'g')\n",
        "plt.text('2020-03-21', 1500, 'Lockdown', fontsize=12,color='#FF0000')\n",
        "plt.text('2020-04-21', 1500, 'Lockdown extended', fontsize=12,color='#FF0000')\n",
        "plt.text('2020-05-21', 1500, 'Lockdown extended', fontsize=12,color='#FF0000')\n",
        "plt.text('2020-06-11', 1500, 'Lockdown End', fontsize=12,color='#00FA00')\n",
        "plt.xlabel('Date')\n",
        "plt.ylabel('Total actif cases')\n",
        "plt.title('Actif cases ')\n",
        "plt.legend()"
      ],
      "execution_count": null,
      "outputs": []
    },
    {
      "cell_type": "markdown",
      "metadata": {
        "id": "J6afr-SekRPp",
        "colab_type": "text"
      },
      "source": [
        "**Pourcentage d'Actif, décès et guérisons par jour**"
      ]
    },
    {
      "cell_type": "code",
      "metadata": {
        "id": "GhxseR5vkt0P",
        "colab_type": "code",
        "colab": {}
      },
      "source": [
        "#obtenir les données a tracer\n",
        "plt.figure(figsize=(15,5))\n",
        "dataVar1 =(my_data_ori['Actif']*100/my_data_ori['Confirmed'])[15:]\n",
        "dataVar3 =(my_data_ori['Deaths']*100/my_data_ori['Confirmed'])[15:]\n",
        "dataVar2 =(my_data_ori['Recovered']*100/my_data_ori['Confirmed'])[15:]\n",
        "\n",
        "\n",
        "# tracer chaque donnée\n",
        "p1 = plt.bar(dataVar1.index, \n",
        "             dataVar1,label='Actif')\n",
        "\n",
        "p2 = plt.bar(dataVar2.index, \n",
        "             dataVar2,\n",
        "             bottom=dataVar1,color='g',label='Recovered')\n",
        "\n",
        "p3 = plt.bar(dataVar3.index,\n",
        "             dataVar3,\n",
        "             bottom=dataVar1+dataVar2,color='r',label='Deaths')\n",
        "\n",
        "plt.xlabel('Date')\n",
        "plt.ylabel('Pourcentage %')\n",
        "plt.title('Pourcentage of distribution of cases')\n",
        "plt.legend()"
      ],
      "execution_count": null,
      "outputs": []
    },
    {
      "cell_type": "markdown",
      "metadata": {
        "id": "JAOOu36qRDRi",
        "colab_type": "text"
      },
      "source": [
        ""
      ]
    },
    {
      "cell_type": "markdown",
      "metadata": {
        "id": "0GnFkna2nKyf",
        "colab_type": "text"
      },
      "source": [
        "**Représentation graphique du nombre total de cas par région**"
      ]
    },
    {
      "cell_type": "code",
      "metadata": {
        "id": "8cQjkV1znKXR",
        "colab_type": "code",
        "colab": {}
      },
      "source": [
        "plt.figure(figsize=(25,10))\n",
        "\n",
        "BM = df['Beni Mellal-Khenifra']\n",
        "CS = df['Casablanca-Settat']\n",
        "DT = df['Draa-Tafilalet']\n",
        "DO = df['Dakhla-Oued Ed-Dahab']\n",
        "FM = df['Fes-Meknes']\n",
        "GO = df['Guelmim-Oued Noun']\n",
        "LS = df['Laayoune-Sakia El Hamra']\n",
        "MS = df['Marrakesh-Safi']\n",
        "Or = df['Oriental']\n",
        "RS = df['Rabat-Sale-Kenitra']\n",
        "SM = df['Souss-Massa']\n",
        "TT = df['Tanger-Tetouan-Al Hoceima']\n",
        "\n",
        "ax1 = plt.subplot(4, 3, 1)\n",
        "sns.lineplot(data = BM,label='Beni Mellal-Khenifra')\n",
        "ax2 = plt.subplot(4, 3, 2)\n",
        "sns.lineplot(data = CS,label='Casablanca-settat')\n",
        "ax3 = plt.subplot(4, 3, 3)\n",
        "sns.lineplot(data = DT,label='Draa-Tafilalet')\n",
        "ax4 = plt.subplot(4, 3, 4)\n",
        "sns.lineplot(data = DO,label='Dakhla-Oued Ed Dahab')\n",
        "ax5 = plt.subplot(4, 3, 5)\n",
        "sns.lineplot(data = FM,label='Fes-Meknes')\n",
        "ax6 = plt.subplot(4, 3, 6)\n",
        "sns.lineplot(data = GO,label='Guelmim Oued Noun')\n",
        "ax7 = plt.subplot(4, 3, 7)\n",
        "sns.lineplot(data = LS,label='Laayoune Sakia El Hamra')\n",
        "ax8 = plt.subplot(4, 3, 8)\n",
        "sns.lineplot(data = MS,label='Marakesh Safi')\n",
        "ax9 = plt.subplot(4, 3, 9)\n",
        "sns.lineplot(data = RS,label='Rabat Sale Kenitra')\n",
        "ax10 = plt.subplot(4, 3, 10)\n",
        "sns.lineplot(data = SM,label='Souss Massa')\n",
        "ax11 = plt.subplot(4, 3, 11)\n",
        "sns.lineplot(data = Or,label='Oriental')\n",
        "ax12 = plt.subplot(4, 3, 12)\n",
        "sns.lineplot(data = TT,label='Tanger Tetouane Al Hoceima')"
      ],
      "execution_count": null,
      "outputs": []
    },
    {
      "cell_type": "markdown",
      "metadata": {
        "id": "aDTZcTA5pPT4",
        "colab_type": "text"
      },
      "source": [
        "\n",
        "**Graphique circulaire du nombre total de cas par région**"
      ]
    },
    {
      "cell_type": "code",
      "metadata": {
        "id": "8V-JKZBepRcs",
        "colab_type": "code",
        "colab": {}
      },
      "source": [
        "plt.figure(figsize=(16,8))\n",
        "Slice = [df['Beni Mellal-Khenifra'][-1],df['Casablanca-Settat'][-1],df['Draa-Tafilalet'][-1],\n",
        "        df['Dakhla-Oued Ed-Dahab'][-1],df['Fes-Meknes'][-1],df['Guelmim-Oued Noun'][-1],\n",
        "        df['Rabat-Sale-Kenitra'][-1],df['Souss-Massa'][-1],df['Tanger-Tetouan-Al Hoceima'][-1],\n",
        "        df['Laayoune-Sakia El Hamra'][-1],df['Marrakesh-Safi'][-1],df['Oriental'][-1]]\n",
        "Labels = ['Beni Mellal-Khenifra','Casablanca-Settat','Draa-Tafilalet','Dakhla-Oued Ed-Dahab','Fes-Meknes',\n",
        "         'Guelmim-Oued Noun','Rabat-Sale-Kenitra','Souss-Massa','Tanger-Tetouan-Al Hoceima','Laayoune-Sakia El Hamra',\n",
        "         'Marrakesh-Safi','Oriental']\n",
        "Colors = ['#f78fA7','#EE204D','#FF7538','#1F75FE','#4CB7A5','#1CAC78','#FCE833', '#926EAE', '#828E84' ,\n",
        "          '#000000', '#008080','#808080']\n",
        "Explode = [0,0,0,0,0,0,0,0,0,0,0,0]\n",
        "plt.pie(Slice,colors = Colors,explode = Explode,shadow = True,autopct='%1.1f%%',\n",
        "        labels = Labels,wedgeprops = {'edgecolor':'white'})\n",
        "\n",
        "\n",
        "plt.title('Pie Chart of Total cases per region')\n"
      ],
      "execution_count": null,
      "outputs": []
    },
    {
      "cell_type": "markdown",
      "metadata": {
        "id": "LG0Ejzlzrimg",
        "colab_type": "text"
      },
      "source": [
        "casablanca-Settat, Tanger-Tétouan Al Hoceima, Marrakech Safi ont les plus grandes valeurs du nombre total de cas, en raison de l'épicentre commercial, industriel et familial, en particulier pour les villes de Casablanca et Tanger qui représentent les plus grandes zones industrielles du Maroc.\n"
      ]
    },
    {
      "cell_type": "markdown",
      "metadata": {
        "id": "LAA4N8pArMdm",
        "colab_type": "text"
      },
      "source": [
        "\n",
        "# **Partie 2: Prévision du nombre total de cas confirmés**"
      ]
    },
    {
      "cell_type": "markdown",
      "metadata": {
        "id": "w7puaM_ItOnx",
        "colab_type": "text"
      },
      "source": [
        "tout a changé lorsque Sean J.Taylor et Ben Letham de Facebook ont ​​introduit l' algorithme ` ` Prophète '' en 2017\n",
        "\n",
        "C'est un algorithme pour construire des modèles de prévision pour les données de séries chronologiques. \n",
        "Contrairement à l'approche traditionnelle, il essaie d'adapter les modèles de régression additive, appelés «ajustement de courbe».\n",
        "\n",
        "Ce qui est cool avec cet algorithme, c'est qu'il est très flexible en ce qui concerne les données qui sont transmises à l'algorithme. Vous pouvez avoir des NA et vous n'avez pas besoin d'avoir toutes les dates et heures alignées.\n",
        "Et, cela fonctionne assez raisonnablement par défaut, sans définir explicitement de paramètres.\n",
        " Et si vous avez une connaissance du domaine, vous pouvez configurer certains paramètres pour améliorer davantage le modèle, mais ces paramètres sont assez simples à comprendre."
      ]
    },
    {
      "cell_type": "markdown",
      "metadata": {
        "id": "09Hsjc93tymS",
        "colab_type": "text"
      },
      "source": [
        "**Importer prophet**\n"
      ]
    },
    {
      "cell_type": "code",
      "metadata": {
        "id": "iD6pRq4cryJS",
        "colab_type": "code",
        "colab": {}
      },
      "source": [
        "from fbprophet import Prophet\n"
      ],
      "execution_count": null,
      "outputs": []
    },
    {
      "cell_type": "code",
      "metadata": {
        "id": "kAQr3yE6t8bc",
        "colab_type": "code",
        "colab": {}
      },
      "source": [
        "total_Deaths = df['Deaths']\n",
        "total_Confirmed = df['Confirmed']\n",
        "total_Recovered = df['Recovered']\n",
        "taux_mortalité = 100*total_Deaths/total_Confirmed"
      ],
      "execution_count": null,
      "outputs": []
    },
    {
      "cell_type": "code",
      "metadata": {
        "id": "FbK0E9hRuZs-",
        "colab_type": "code",
        "colab": {}
      },
      "source": [
        "# Ajout d'une nouvelle colonne de cas quotidiens à nos données\n",
        "\n",
        "new_cases = []\n",
        "for i in range(len(total_Confirmed)):\n",
        "    if i == 0:\n",
        "        new_cases.append(0)\n",
        "    elif total_Confirmed[i] < total_Confirmed[i-1]:\n",
        "        new_cases.append(0)\n",
        "    else:\n",
        "        temp = int(total_Confirmed[i] - total_Confirmed[i-1])\n",
        "        new_cases.append(temp)\n",
        "new_cases = np.array(new_cases)\n",
        "df['New cases'] = new_cases"
      ],
      "execution_count": null,
      "outputs": []
    },
    {
      "cell_type": "code",
      "metadata": {
        "id": "3vmZoJW7vuwa",
        "colab_type": "code",
        "colab": {}
      },
      "source": [
        "df1 = pd.DataFrame(df['New cases'])\n",
        "df1.style.background_gradient(cmap='Reds')\n",
        "df"
      ],
      "execution_count": null,
      "outputs": []
    },
    {
      "cell_type": "code",
      "metadata": {
        "id": "10Q9eEbewM5V",
        "colab_type": "code",
        "colab": {}
      },
      "source": [
        "#visualiser la situation actuelle\n",
        "\n",
        "import plotly.express as px\n",
        "import plotly.graph_objects as go\n",
        "\n",
        "\n",
        "fig = px.bar(df, x=df.index, y=\"New cases\", color='New cases', orientation='v', height=600,\n",
        "             title='Confirmed Cases in Morocco', color_discrete_sequence = px.colors.cyclical.IceFire)\n",
        "fig.show()\n",
        "\n",
        "fig = go.Figure()\n",
        "fig.add_trace(go.Scatter(x=df.index, y = df['Confirmed'], mode= 'lines+markers',name='Total Cases'))\n",
        "fig.add_trace(go.Scatter(x=df.index, y = df['Recovered'], mode='lines+markers',name='Recovered',line=dict(color='Green', width=2)))\n",
        "fig.add_trace(go.Scatter(x=df.index, y=df['Deaths'], mode='lines+markers', name='Deaths', line=dict(color='Red', width=2)))\n",
        "fig.update_layout(title_text='Trend of Coronavirus Cases in Morocco (Cumulative cases)',plot_bgcolor='rgb(230, 230, 230)')\n",
        "\n",
        "fig.show()\n",
        "\n",
        "fig = go.Figure()\n",
        "fig.add_trace(go.Scatter(x=df.index, y = df['Actif'], mode= 'lines+markers',name='Total Cases'))\n",
        "fig.update_layout(title_text='Trend of Actif Coronavirus Cases in Morocco ',plot_bgcolor='rgb(230, 230, 230)')\n",
        "fig.show()"
      ],
      "execution_count": null,
      "outputs": []
    },
    {
      "cell_type": "markdown",
      "metadata": {
        "id": "WZzG4stX6NxG",
        "colab_type": "text"
      },
      "source": [
        "\n",
        "**Prédire la tendance des cas confirmés dans les 10 prochains jours**"
      ]
    },
    {
      "cell_type": "markdown",
      "metadata": {
        "id": "Jbdpp7SS6ztS",
        "colab_type": "text"
      },
      "source": [
        "\n",
        "L'entrée de Prophet est toujours une trame de données avec deux colonnes: ds et y. La colonne ds (datestamp) doit être d'un format attendu par Panda, idéalement AAAA-MM-JJ pour une date ou AAAA-MM-JJ HH: MM: SS pour un datetime. La colonne y doit être numérique et représente la mesure que nous souhaitons prévoir\n"
      ]
    },
    {
      "cell_type": "code",
      "metadata": {
        "id": "YEILqLWY6Sr3",
        "colab_type": "code",
        "colab": {}
      },
      "source": [
        "confirmed = df.groupby('Date').sum()['Confirmed'].reset_index()\n",
        "\n",
        "confirmed.columns = ['ds','y']"
      ],
      "execution_count": null,
      "outputs": []
    },
    {
      "cell_type": "markdown",
      "metadata": {
        "id": "7s2hxHky7U1P",
        "colab_type": "text"
      },
      "source": [
        "Génération d'une prévision à 10 jours des cas confirmés à l'aide de Prophet, avec un intervalle de prédiction de 95% en créant un modèle de base sans ajustement des paramètres liés à la saisonnalité et des régresseurs supplémentaires.\n"
      ]
    },
    {
      "cell_type": "code",
      "metadata": {
        "id": "LPdq360A7Ufm",
        "colab_type": "code",
        "colab": {}
      },
      "source": [
        "m = Prophet(interval_width=0.95, yearly_seasonality=True,daily_seasonality=True)\n",
        "m.fit(confirmed)\n",
        "future = m.make_future_dataframe(periods=10)\n",
        "future.tail(10)"
      ],
      "execution_count": null,
      "outputs": []
    },
    {
      "cell_type": "markdown",
      "metadata": {
        "id": "qg3JatfgDS_A",
        "colab_type": "text"
      },
      "source": [
        "**prédiction du futur avec la date et les limites supérieure et inférieure de la valeur y**"
      ]
    },
    {
      "cell_type": "code",
      "metadata": {
        "id": "JCBuDY59DZox",
        "colab_type": "code",
        "colab": {}
      },
      "source": [
        "forecast = m.predict(future)\n",
        "forecast[['ds', 'yhat', 'yhat_lower', 'yhat_upper']].tail()"
      ],
      "execution_count": null,
      "outputs": []
    },
    {
      "cell_type": "code",
      "metadata": {
        "id": "f5lthREzDvvN",
        "colab_type": "code",
        "colab": {}
      },
      "source": [
        "fig = go.Figure()\n",
        "fig.add_trace(go.Scatter(x=forecast.ds, y = abs(forecast['yhat'].round()), mode= 'lines+markers',name='Predicted daily cases'))\n",
        "fig.add_trace(go.Scatter(x=forecast.ds, y = abs(forecast['yhat_lower'].round()), mode= 'markers',name='Predicted daily cases yhat_lower'))\n",
        "fig.add_trace(go.Scatter(x=forecast.ds, y = abs(forecast['yhat_upper'].round()), mode= 'markers',name='Predicted daily cases yhat_upper'))\n",
        "\n",
        "fig.add_trace(go.Scatter(x=df.index, y = df['Confirmed'], mode= 'lines+markers',name='Daily cases'))"
      ],
      "execution_count": null,
      "outputs": []
    },
    {
      "cell_type": "markdown",
      "metadata": {
        "id": "VEns_PbgD5Sg",
        "colab_type": "text"
      },
      "source": [
        "Le modèle prévoit plus de nouveaux cas au Maroc et il s'aggravera avec la fin des restrictions dans certaines provinces"
      ]
    },
    {
      "cell_type": "markdown",
      "metadata": {
        "id": "sYjfeVw9EHmB",
        "colab_type": "text"
      },
      "source": [
        "**2. Prédire les nouveaux cas quotidiens**"
      ]
    },
    {
      "cell_type": "code",
      "metadata": {
        "id": "OLs6x5kAD6YY",
        "colab_type": "code",
        "colab": {}
      },
      "source": [
        "new_cases = df.groupby('Date').sum()['New cases'].reset_index()\n",
        "new_cases.columns = ['ds','y']"
      ],
      "execution_count": null,
      "outputs": []
    },
    {
      "cell_type": "code",
      "metadata": {
        "id": "oWRzNdbsESxF",
        "colab_type": "code",
        "colab": {}
      },
      "source": [
        "m_1 = Prophet(interval_width=0.95)\n",
        "m_1.fit(new_cases)\n",
        "future_1 = m_1.make_future_dataframe(periods=10)\n",
        "future_1.tail()"
      ],
      "execution_count": null,
      "outputs": []
    },
    {
      "cell_type": "code",
      "metadata": {
        "id": "M_thocvyETI4",
        "colab_type": "code",
        "colab": {}
      },
      "source": [
        "forecast_1 = m_1.predict(future_1)\n",
        "forecast_1[['ds', 'yhat', 'yhat_lower', 'yhat_upper']].tail()"
      ],
      "execution_count": null,
      "outputs": []
    },
    {
      "cell_type": "code",
      "metadata": {
        "id": "LXmcvTrWEahH",
        "colab_type": "code",
        "colab": {}
      },
      "source": [
        "\n",
        "fig = go.Figure()\n",
        "fig.add_trace(go.Scatter(x=forecast_1.ds, y = abs(forecast_1['yhat'].round()), mode= 'lines+markers',name='Predicted daily cases'))\n",
        "\n",
        "fig.add_trace(go.Scatter(x=df.index, y = df['New cases'], mode= 'lines+markers',name='Daily cases'))"
      ],
      "execution_count": null,
      "outputs": []
    },
    {
      "cell_type": "markdown",
      "metadata": {
        "id": "y6DsBMxwEl6S",
        "colab_type": "text"
      },
      "source": [
        "\n",
        "**Comme indiqué, le modèle prévoit des cas quotidiens stables pour les 10 prochains jours.**"
      ]
    }
  ]
}